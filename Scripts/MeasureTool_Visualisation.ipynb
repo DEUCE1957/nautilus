{
 "metadata": {
  "language_info": {
   "codemirror_mode": {
    "name": "ipython",
    "version": 3
   },
   "file_extension": ".py",
   "mimetype": "text/x-python",
   "name": "python",
   "nbconvert_exporter": "python",
   "pygments_lexer": "ipython3",
   "version": "3.8.5-final"
  },
  "orig_nbformat": 2,
  "kernelspec": {
   "name": "python3",
   "display_name": "Python 3",
   "language": "python"
  }
 },
 "nbformat": 4,
 "nbformat_minor": 2,
 "cells": [
  {
   "cell_type": "code",
   "execution_count": null,
   "metadata": {},
   "outputs": [],
   "source": [
    "from pathlib import Path\n",
    "import csv\n",
    "import math\n",
    "import pandas as pd\n",
    "import seaborn as sns\n",
    "import matplotlib.pyplot as plt\n",
    "case_dir = Path.cwd() / \"Measurements\"\n",
    "\n",
    "def choose_from_folder(dir_path, condition):\n",
    "    items =  [x for x in dir_path.glob(\"**/*\") if condition(x)]\n",
    "    print(\"\\n\".join([f\"{i}: {item}\" for i, item in enumerate(items)]))\n",
    "    resp = input(\"Choose item by number (e.g. 0)\")\n",
    "    while True:\n",
    "        if resp.isdigit():\n",
    "            if int(resp) >= 0 and int(resp) < len(items):\n",
    "                break\n",
    "        resp = input(\"Choose item by number (e.g. 0)\")\n",
    "    return items[int(resp)]\n",
    "measure_dir = case_dir / choose_from_folder(case_dir, lambda x: x.is_dir())\n",
    "condition = lambda x: x.is_file()\n",
    "file = measure_dir / choose_from_folder(measure_dir, lambda x: x.is_file())\n",
    "print(f\"Choose file: {file}\")"
   ]
  },
  {
   "cell_type": "code",
   "execution_count": null,
   "metadata": {
    "tags": [
     "outputPrepend"
    ]
   },
   "outputs": [],
   "source": [
    "with open(file) as csvfile:\n",
    "    measure_reader = csv.reader(csvfile, delimiter=\";\")\n",
    "    point_list = [float(point) for point in measure_reader.__next__()[2:]]\n",
    "    points = {i: (point_list[i:i+3]) for i in range(len(point_list) // 3)}\n",
    "    print(\"Points: \", points)\n",
    "    columns = measure_reader.__next__()\n",
    "    print(\"Columns: \", columns)\n",
    "    for row in measure_reader:\n",
    "        print(\", \".join(row))"
   ]
  },
  {
   "cell_type": "code",
   "execution_count": null,
   "metadata": {},
   "outputs": [],
   "source": [
    "df = pd.read_csv(file, sep=\";\", index_col=0, header=1)\n",
    "display(df)\n",
    "\n",
    "def magnitude(row):\n",
    "    return math.sqrt(row.pow(2).sum())\n",
    "\n",
    "for point_no in range(len(points)):\n",
    "    start_idx, end_idx = (point_no*3)+1,min(1+(point_no+1)*3, len(columns))\n",
    "    df[f\"Vel_{point_no} (m/s)\"] = df.iloc[:, start_idx:end_idx].apply(magnitude, axis=1)\n",
    "    columns.append(f\"Vel_{point_no} (m/s)\")\n",
    "display(df)"
   ]
  },
  {
   "cell_type": "code",
   "execution_count": null,
   "metadata": {},
   "outputs": [],
   "source": [
    "print(df.columns)"
   ]
  },
  {
   "cell_type": "code",
   "execution_count": null,
   "metadata": {},
   "outputs": [],
   "source": [
    "fig, axes = plt.subplots(nrows=math.ceil(len(points)/2), ncols=2, figsize=(16,45))\n",
    "for point_no in range(len(points)):\n",
    "    ax = axes[(math.floor(point_no/2), point_no % 2) if len(points) > 2 else point_no]\n",
    "    ax.plot(df[columns[1]],df[f\"Vel_{point_no} (m/s)\"])\n",
    "    ax.set(title=f\"Measurement at X: {points[point_no][0]}m, Y: {points[point_no][1]}m, Z: {points[point_no][2]}m\",\n",
    "        xlabel=\"Time (s)\", ylabel=\"Velocity (m/s)\")\n",
    "plt.show()"
   ]
  }
 ]
}